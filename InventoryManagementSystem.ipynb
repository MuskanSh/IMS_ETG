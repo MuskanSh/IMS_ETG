{
  "nbformat": 4,
  "nbformat_minor": 0,
  "metadata": {
    "colab": {
      "name": "InventoryManagementSystem.ipynb",
      "provenance": [],
      "collapsed_sections": []
    },
    "kernelspec": {
      "name": "python3",
      "display_name": "Python 3"
    },
    "language_info": {
      "name": "python"
    }
  },
  "cells": [
    {
      "cell_type": "code",
      "metadata": {
        "id": "4RLEgk3OpcKQ"
      },
      "source": [
        "import json\n",
        "import time"
      ],
      "execution_count": 1,
      "outputs": []
    },
    {
      "cell_type": "code",
      "metadata": {
        "id": "OQTdXVnXqIef"
      },
      "source": [
        "\n",
        "fd=open(\"records.json\",\"w\")\n",
        "products={'1001':{\"name\":\"browniw\",\"price\":50,\"quantity\":100,\"ex_date\":\"19-9-2022\",\"maf_date\":\"11-8-2021\"},\n",
        "          '1002':{\"name\":\"Chew Chew\",\"price\":50,\"quantity\":100,\"ex_date\":\"19-9-2022\",\"maf_date\":\"11-8-2021\"},\n",
        "          '1003':{\"name\":\"ChocLife\",\"price\":50,\"quantity\":100,\"ex_date\":\"19-9-2022\",\"maf_date\":\"11-8-2021\"} ,\n",
        "         '1004':{\"name\":\"ChocLive\",\"price\":50,\"quantity\":100,\"ex_date\":\"19-9-2022\",\"maf_date\":\"11-8-2021\"},\n",
        "         '1005':{\"name\":\"ChocoBuds\",\"price\":50,\"quantity\":100,\"ex_date\":\"19-9-2022\",\"maf_date\":\"11-8-2021\"},\n",
        "         '1006':{\"name\":\"ChocoCream\",\"price\":50,\"quantity\":100,\"ex_date\":\"19-9-2022\",\"maf_date\":\"11-8-2021\"},\n",
        "         '1007':{\"name\":\"ChocoDelight\",\"price\":50,\"quantity\":100,\"ex_date\":\"19-9-2022\",\"maf_date\":\"11-8-2021\"},\n",
        "         '1008':{\"name\":\"KitKat\",\"price\":50,\"quantity\":100,\"ex_date\":\"19-9-2022\",\"maf_date\":\"11-8-2021\"},\n",
        "         '1009':{\"name\":\"Dairy Milk\",\"price\":50,\"quantity\":100,\"ex_date\":\"19-9-2022\",\"maf_date\":\"11-8-2021\"},\n",
        "         '1010':{\"name\":\"5Star\",\"price\":50,\"quantity\":100,\"ex_date\":\"19-9-2022\",\"maf_date\":\"11-8-2021\"},\n",
        "         '1011':{\"name\":\"Perk\",\"price\":50,\"quantity\":100,\"ex_date\":\"19-9-2022\",\"maf_date\":\"11-8-2021\"},\n",
        "         '1012':{\"name\":\"ChocoDream\",\"price\":50,\"quantity\":100,\"ex_date\":\"19-9-2022\",\"maf_date\":\"11-8-2021\"},\n",
        "         '1013':{\"name\":\"ChocoFantasy\",\"price\":50,\"quantity\":100,\"ex_date\":\"19-9-2022\",\"maf_date\":\"11-8-2021\"},\n",
        "          '1014':{\"name\":\"ChocoFate\",\"price\":50,\"quantity\":100,\"ex_date\":\"19-9-2022\",\"maf_date\":\"11-8-2021\"},\n",
        "         '1015':{\"name\":\"Chocoholics\",\"price\":50,\"quantity\":100,\"ex_date\":\"19-9-2022\",\"maf_date\":\"11-8-2021\"},\n",
        "         '1016':{\"name\":\"ChocoLasting\",\"price\":50,\"quantity\":100,\"ex_date\":\"19-9-2022\",\"maf_date\":\"11-8-2021\"},\n",
        "         '1016':{\"name\":\"ChocolateCeleb\",\"price\":50,\"quantity\":100,\"ex_date\":\"19-9-2022\",\"maf_date\":\"11-8-2021\"},\n",
        "         '1017':{\"name\":\"ChocolateCheer\",\"price\":50,\"quantity\":100,\"ex_date\":\"19-9-2022\",\"maf_date\":\"11-8-2021\"},\n",
        "         '1018':{\"name\":\"ChocoLux\",\"price\":50,\"quantity\":100,\"ex_date\":\"19-9-2022\",\"maf_date\":\"11-8-2021\"},\n",
        "         '1019':{\"name\":\"ChocoLuxe\",\"price\":50,\"quantity\":100,\"ex_date\":\"19-9-2022\",\"maf_date\":\"11-8-2021\"},\n",
        "         '1020':{\"name\":\"ChocoPals\",\"price\":50,\"quantity\":100,\"ex_date\":\"19-9-2022\",\"maf_date\":\"11-8-2021\"},\n",
        "         '1021':{\"name\":\"ChocoChoco\",\"price\":50,\"quantity\":100,\"ex_date\":\"19-9-2022\",\"maf_date\":\"11-8-2021\"},\n",
        "         '1022':{\"name\":\"ChocoChips\",\"price\":50,\"quantity\":100,\"ex_date\":\"19-9-2022\",\"maf_date\":\"11-8-2021\"},\n",
        "         '1023':{\"name\":\"ChocoSmiles\",\"price\":50,\"quantity\":100,\"ex_date\":\"19-9-2022\",\"maf_date\":\"11-8-2021\"},\n",
        "         '1023':{\"name\":\"SweetCandy\",\"price\":50,\"quantity\":100,\"ex_date\":\"19-9-2022\",\"maf_date\":\"11-8-2021\"},\n",
        "         '1024':{\"name\":\"SweetMarie\",\"price\":50,\"quantity\":100,\"ex_date\":\"19-9-2022\",\"maf_date\":\"11-8-2021\"},\n",
        "         '1025':{\"name\":\"SweetDesigns \",\"price\":50,\"quantity\":100,\"ex_date\":\"19-9-2022\",\"maf_date\":\"11-8-2021\"},\n",
        "         '1026':{\"name\":\"vannilla milk\",\"price\":50,\"quantity\":100,\"ex_date\":\"19-9-2022\",\"maf_date\":\"11-8-2021\"},\n",
        "         '1027':{\"name\":\"pista milk\",\"price\":50,\"quantity\":100,\"ex_date\":\"19-9-2022\",\"maf_date\":\"11-8-2021\"},\n",
        "         '1028':{\"name\":\"blackcurrent milk\",\"price\":50,\"quantity\":100,\"ex_date\":\"19-9-2022\",\"maf_date\":\"11-8-2021\"},\n",
        "         '1028':{\"name\":\"mixed juice\",\"price\":50,\"quantity\":100,\"ex_date\":\"19-9-2022\",\"maf_date\":\"11-8-2021\"},\n",
        "         '1030':{\"name\":\"Mojito\",\"price\":50,\"quantity\":100,\"ex_date\":\"19-9-2022\",\"maf_date\":\"11-8-2021\"}}\n",
        "jformat=json.dumps(products)\n",
        "fd.write(jformat)\n",
        "fd.close()"
      ],
      "execution_count": 2,
      "outputs": []
    },
    {
      "cell_type": "code",
      "metadata": {
        "id": "xI57NBYLqIQr"
      },
      "source": [
        "fd=open(\"records.json\",\"r\")\n",
        "txt=fd.read()\n",
        "fd.close()\n",
        "products=json.loads(txt)\n",
        "\n"
      ],
      "execution_count": 24,
      "outputs": []
    },
    {
      "cell_type": "markdown",
      "metadata": {
        "id": "BVMZeM49yYyv"
      },
      "source": [
        "\n",
        "\n",
        "\n",
        " **Purchasing the product**"
      ]
    },
    {
      "cell_type": "code",
      "metadata": {
        "colab": {
          "base_uri": "https://localhost:8080/"
        },
        "id": "K2R0gag7zAEU",
        "outputId": "bcfd0fdf-cfe1-479f-c30a-70b3ad1450c8"
      },
      "source": [
        "print(\"------------MENU------------\")\n",
        "print(\"product_id    product_name\",end=\"\\n\\n\")\n",
        "for i in products.keys():\n",
        "    print(i,\"        \",products[i][\"name\"])"
      ],
      "execution_count": 11,
      "outputs": [
        {
          "output_type": "stream",
          "name": "stdout",
          "text": [
            "------------MENU------------\n",
            "product_id    product_name\n",
            "\n",
            "1001          browniw\n",
            "1002          Chew Chew\n",
            "1003          ChocLife\n",
            "1004          ChocLive\n",
            "1005          ChocoBuds\n",
            "1006          ChocoCream\n",
            "1007          ChocoDelight\n",
            "1008          KitKat\n",
            "1009          Dairy Milk\n",
            "1010          5Star\n",
            "1011          Perk\n",
            "1012          ChocoDream\n",
            "1013          ChocoFantasy\n",
            "1014          ChocoFate\n",
            "1015          Chocoholics\n",
            "1016          ChocolateCeleb\n",
            "1017          ChocolateCheer\n",
            "1018          ChocoLux\n",
            "1019          ChocoLuxe\n",
            "1020          ChocoPals\n",
            "1021          ChocoChoco\n",
            "1022          ChocoChips\n",
            "1023          SweetCandy\n",
            "1024          SweetMarie\n",
            "1025          SweetDesigns \n",
            "1026          vannilla milk\n",
            "1027          pista milk\n",
            "1028          mixed juice\n",
            "1030          Mojito\n"
          ]
        }
      ]
    },
    {
      "cell_type": "markdown",
      "metadata": {
        "id": "ClWh8gy7zwXR"
      },
      "source": [
        "**Product id and Quantity**"
      ]
    },
    {
      "cell_type": "code",
      "metadata": {
        "colab": {
          "base_uri": "https://localhost:8080/"
        },
        "id": "wakHrtNI0nw1",
        "outputId": "afba6615-ee10-4484-a985-c36acfd04f55"
      },
      "source": [
        "user_id=input(\"Enter the product id- :\")\n",
        "quantity=int(input(\"Enter The Quantity- :\"))\n",
        "product_id=products.keys()\n",
        "\n",
        "if (user_id not in product_id):\n",
        "    print(\"It's wrong Product Id \")\n",
        "    \n",
        "    \n",
        "    \n",
        "flag=0\n",
        "if(products[user_id][\"quantity\"]<quantity):\n",
        "    print(\"The available quantity is :\" ,products[user_id][\"quantity\"])\n",
        "    ans=int(input(\"Do you want to take these quantity(1-yes/0-No)\"))\n",
        "    if(ans):\n",
        "        print(\"The bill is processed!!\")\n",
        "        quantity=products[user_id][\"quantity\"]\n",
        "        \n",
        "    else:\n",
        "        flag=1\n",
        "        print(\"choose any other product\")\n",
        "  \n",
        "products[user_id][\"quantity\"]-=quantity"
      ],
      "execution_count": 15,
      "outputs": [
        {
          "name": "stdout",
          "output_type": "stream",
          "text": [
            "Enter the product id- :1011\n",
            "Enter The Quantity- :30\n"
          ]
        }
      ]
    },
    {
      "cell_type": "markdown",
      "metadata": {
        "id": "NXvl8zcK1caa"
      },
      "source": [
        "**Printing the Bill**"
      ]
    },
    {
      "cell_type": "code",
      "metadata": {
        "colab": {
          "base_uri": "https://localhost:8080/"
        },
        "id": "Dxh1kEQW1h5T",
        "outputId": "961a274d-ca5c-4d39-edff-625b3fd00f9c"
      },
      "source": [
        "if(flag==0):\n",
        "    print(\"----------Bill----------\",end=\" \")\n",
        "    print(\"Time :\",time.ctime(),\"--------------------\")\n",
        "    print(\"Product :\",products[user_id][\"name\"])\n",
        "    print(\"Quanity :\",quantity)\n",
        "    print(\"Price :\",products[user_id][\"price\"])\n",
        "    print(\"Billing Amount :\",products[user_id][\"price\"]*quantity)\n",
        "    print(\"---------------------------------------------------------------------------------\")"
      ],
      "execution_count": 16,
      "outputs": [
        {
          "output_type": "stream",
          "name": "stdout",
          "text": [
            "----------Bill---------- Time : Mon Sep  6 16:03:20 2021 --------------------\n",
            "Product : Perk\n",
            "Quanity : 30\n",
            "Price : 50\n",
            "Billing Amount : 1500\n",
            "---------------------------------------------------------------------------------\n"
          ]
        }
      ]
    },
    {
      "cell_type": "markdown",
      "metadata": {
        "id": "BUvnFBVu2f4Z"
      },
      "source": [
        "**Making Transaction Details**"
      ]
    },
    {
      "cell_type": "code",
      "metadata": {
        "id": "_fSqas7u2sxl"
      },
      "source": [
        ""
      ],
      "execution_count": 26,
      "outputs": []
    },
    {
      "cell_type": "markdown",
      "metadata": {
        "id": "U4kkI01g3FIt"
      },
      "source": [
        "**Adding the products**"
      ]
    },
    {
      "cell_type": "code",
      "metadata": {
        "colab": {
          "base_uri": "https://localhost:8080/"
        },
        "id": "juXPp7JU3NvD",
        "outputId": "f9bd44b0-4f0c-418e-cd4c-cbbd9de5389a"
      },
      "source": [
        "print(\"To Add Product\")\n",
        "product_id=products.keys()\n",
        "new_id=input(\"Enter the id of the product-\")\n",
        "if new_id in product_id:\n",
        "    qun=int(input(\"Enter the product Quantity-\"))\n",
        "    products[new_id][\"quantity\"]+=qun\n",
        "    print(\"Qunatity Added\")\n",
        "else:\n",
        "    nname=input(\"Enter the name of the product-\")\n",
        "    nprice=int(input(\"enter the price-\"))\n",
        "    nquantity=int(input(\"enter the quantity-\"))\n",
        "    nmdate=input(\"Enter the maf date of the product-\")\n",
        "    medate=input(\"Enter the ex date of the product-\")\n",
        "    new_product[\"name\"]=nname\n",
        "    new_product[\"price\"]=nprice\n",
        "    new_product[\"quantity\"]=nquantity\n",
        "    new_product[\"ex_date\"]=medate\n",
        "    new_product[\"maf_date\"]=nmdate\n",
        "    products[new_id]=new_product"
      ],
      "execution_count": 19,
      "outputs": [
        {
          "output_type": "stream",
          "name": "stdout",
          "text": [
            "To Add Product\n",
            "Enter the id of the product-1013\n",
            "Enter the product Quantity-30\n",
            "Qunatity Added\n"
          ]
        }
      ]
    },
    {
      "cell_type": "code",
      "metadata": {
        "id": "2WnRZCeM32Vi"
      },
      "source": [
        "fd=open(\"records.json\",\"w\")\n",
        "jformat=json.dumps(products)\n",
        "fd.write(jformat)\n",
        "fd.close()"
      ],
      "execution_count": 20,
      "outputs": []
    },
    {
      "cell_type": "code",
      "metadata": {
        "id": "1j-XNXB6377q"
      },
      "source": [
        ""
      ],
      "execution_count": null,
      "outputs": []
    }
  ]
}